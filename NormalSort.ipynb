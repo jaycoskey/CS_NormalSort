{
 "cells": [
  {
   "cell_type": "code",
   "execution_count": 1,
   "metadata": {
    "collapsed": true
   },
   "outputs": [],
   "source": [
    "import matplotlib.pyplot as plt\n",
    "from matplotlib.ticker import FuncFormatter\n",
    "import numpy as np\n",
    "from scipy.optimize import curve_fit\n",
    "from sklearn.metrics import mean_squared_error, r2_score"
   ]
  },
  {
   "cell_type": "code",
   "execution_count": 2,
   "metadata": {
    "collapsed": true
   },
   "outputs": [],
   "source": [
    "# Sample times from\n",
    "times = { 100:       0.012892723083496094\n",
    "        , 200:       0.03521013259887695\n",
    "        , 300:       0.04486989974975586\n",
    "        , 400:       0.11879801750183105\n",
    "        , 500:       0.07211589813232422\n",
    "        , 600:       0.08643293380737305\n",
    "        , 700:       0.16454100608825684\n",
    "        , 800:       0.14229512214660645\n",
    "        , 900:       0.20774078369140625\n",
    "        , 1_000:     0.24251222610473633\n",
    "        , 2_000:      0.4431276321411133\n",
    "        , 3_000:      0.5837299823760986\n",
    "        , 4_000:      0.8467867374420166\n",
    "        , 5_000:      1.3550398349761963\n",
    "        , 6_000:      1.3055312633514404\n",
    "        , 7_000:      1.539154052734375\n",
    "        , 8_000:      1.501833200454712\n",
    "        , 9_000:      1.7836380004882812\n",
    "        , 10_000:     2.2644760608673096\n",
    "        , 20_000:     3.621049165725708\n",
    "        , 30_000:     7.935749053955078\n",
    "        , 40_000:    11.937450885772705\n",
    "        , 50_000:    13.832309007644653\n",
    "        , 60_000:    21.200021982192993\n",
    "        , 70_000:    14.05952000617981\n",
    "        , 80_000:    21.918147087097168\n",
    "        , 90_000:    19.915006160736084\n",
    "        , 100_000:   20.305248975753784\n",
    "        , 200_000:   42.39032316207886\n",
    "        , 300_000:  118.64940810203552\n",
    "        , 400_000:  117.36248326301575\n",
    "        , 500_000:  157.675843000412\n",
    "        , 600_000:  228.34484767913818\n",
    "        , 700_000:  235.27977013587952\n",
    "        , 800_000:  261.2860050201416\n",
    "        , 900_000:  299.0290479660034\n",
    "        }"
   ]
  },
  {
   "cell_type": "code",
   "execution_count": 3,
   "metadata": {
    "collapsed": true
   },
   "outputs": [],
   "source": [
    "def get_curve_fit_params(model_func, xs, ys):\n",
    "    popt, pcov = curve_fit(model_func, xs, ys)\n",
    "    return list(popt)\n",
    "\n",
    "# Exponential\n",
    "def model_func0(x, c0, k, p):\n",
    "    return c0 + k * (x ** p)\n",
    "\n",
    "# Exponential * log\n",
    "def model_func1(x, c0, k, p):\n",
    "    return c0 + k * (x ** p) * np.log(x)\n",
    "\n",
    "# Exponential * log**2\n",
    "def model_func2(x, c0, k, p):\n",
    "    return c0 + k * (x ** p) * np.log(x) * np.log(x)"
   ]
  },
  {
   "cell_type": "code",
   "execution_count": 4,
   "metadata": {
    "collapsed": true
   },
   "outputs": [],
   "source": [
    "xs = list(times.keys())\n",
    "ts = list(times.values())\n",
    "f0_c0, f0_k, f0_p = get_curve_fit_params(model_func0, xs, ts)\n",
    "f1_c0, f1_k, f1_p = get_curve_fit_params(model_func1, xs, ts)\n",
    "f2_c0, f2_k, f2_p = get_curve_fit_params(model_func2, xs, ts)\n",
    "    \n",
    "t0s = [model_func0(x, f0_c0, f0_k, f0_p) for x in xs]\n",
    "t1s = [model_func1(x, f1_c0, f1_k, f1_p) for x in xs]\n",
    "t2s = [model_func2(x, f2_c0, f2_k, f2_p) for x in xs]"
   ]
  },
  {
   "cell_type": "code",
   "execution_count": 5,
   "metadata": {},
   "outputs": [
    {
     "name": "stdout",
     "output_type": "stream",
     "text": [
      "loss0=79913053567.58018\n",
      "loss1=79913052364.37236\n",
      "loss2=79913051261.97989\n"
     ]
    }
   ],
   "source": [
    "loss0 = mean_squared_error(xs, t0s)\n",
    "loss1 = mean_squared_error(xs, t1s)\n",
    "loss2 = mean_squared_error(xs, t2s)\n",
    "\n",
    "print(f'loss0={loss0}')\n",
    "print(f'loss1={loss1}')\n",
    "print(f'loss2={loss2}')"
   ]
  },
  {
   "cell_type": "code",
   "execution_count": 6,
   "metadata": {},
   "outputs": [
    {
     "name": "stdout",
     "output_type": "stream",
     "text": [
      "r2_score0=-0.31695731519310244\n",
      "r2_score1=-0.3169572953643849\n",
      "r2_score2=-0.3169572771970923\n"
     ]
    }
   ],
   "source": [
    "# Note: Based on the chart below, R2 should be positive.\n",
    "r2_score0 = r2_score(xs, t0s)\n",
    "r2_score1 = r2_score(xs, t1s)\n",
    "r2_score2 = r2_score(xs, t2s)\n",
    "\n",
    "print(f'r2_score0={r2_score0}')\n",
    "print(f'r2_score1={r2_score1}')\n",
    "print(f'r2_score2={r2_score2}')"
   ]
  },
  {
   "cell_type": "markdown",
   "metadata": {},
   "source": [
    "## We'll plot model_func0 only; the others are nearly identical. "
   ]
  },
  {
   "cell_type": "code",
   "execution_count": 7,
   "metadata": {
    "scrolled": false
   },
   "outputs": [
    {
     "data": {
      "image/png": "[encoded data removed]",
      "text/plain": [
       "<matplotlib.figure.Figure at 0x1078477b8>"
      ]
     },
     "metadata": {},
     "output_type": "display_data"
    }
   ],
   "source": [
    "plt.plot(xs, ts, 'r*', label='data')\n",
    "plt.plot(xs, t0s, 'g-'\n",
    "        , label=f'fit:(c0={f0_c0:.4f}, k={f0_k:.4f}, p={f0_p:.4f})')\n",
    "#plt.plot(xs, t1s, 'b-'\n",
    "#    , label=f'fit:(c0={f1_c0:.4f}, k={f1_k:.4f}, p={f1_p:.4f})')\n",
    "#plt.plot(xs, t2s, 'k-'\n",
    "#    , label=f'fit:(c0={f2_c0:.4f}, k={f2_k:.4f}, p={f2_p:.4f})')\n",
    "\n",
    "plt.xlim(100, plt.xlim()[1])\n",
    "plt.ylim(0, plt.ylim()[1])\n",
    "    \n",
    "plt.title('Sorting time using normalsort\\nvs the size of the (Gaussian-distributed) set')\n",
    "plt.xlabel('Size of set being sorted')\n",
    "plt.ylabel('Time to sort (seconds)')\n",
    "plt.legend(loc=(0.3, 0.02))\n",
    "\n",
    "comma_formatter = lambda x, p: format(int(x), ',')\n",
    "plt.gca().get_xaxis().set_major_formatter(FuncFormatter(comma_formatter))\n",
    "\n",
    "plt.show()"
   ]
  }
 ],
 "metadata": {
  "kernelspec": {
   "display_name": "Python 3",
   "language": "python",
   "name": "python3"
  },
  "language_info": {
   "codemirror_mode": {
    "name": "ipython",
    "version": 3
   },
   "file_extension": ".py",
   "mimetype": "text/x-python",
   "name": "python",
   "nbconvert_exporter": "python",
   "pygments_lexer": "ipython3",
   "version": "3.6.3"
  }
 },
 "nbformat": 4,
 "nbformat_minor": 2
}
